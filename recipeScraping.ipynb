{
 "cells": [
  {
   "cell_type": "code",
   "execution_count": 9,
   "metadata": {},
   "outputs": [
    {
     "name": "stdout",
     "output_type": "stream",
     "text": [
      "dict_keys(['recipes', 'items', 'schematics', 'generators', 'resources', 'miners', 'buildings'])\n",
      "{'className': 'Build_MinerMk1_C', 'allowedResources': ['Desc_Coal_C', 'Desc_OreBauxite_C', 'Desc_OreCopper_C', 'Desc_OreGold_C', 'Desc_OreIron_C', 'Desc_OreUranium_C', 'Desc_RawQuartz_C', 'Desc_Stone_C', 'Desc_Sulfur_C'], 'itemsPerCycle': 1, 'extractCycleTime': 1, 'allowLiquids': False, 'allowSolids': True}\n",
      "{'slug': 'miner-mk-1', 'name': 'Miner Mk.1', 'description': 'Extracts solid resources from the resource node it is built on. \\nThe normal extraction rate is 60 resources per minute. \\nThe extraction rate is modified depending on resource node purity. Outputs all extracted resources onto connected conveyor belts.', 'categories': ['SC_Miners_C'], 'buildMenuPriority': 3, 'className': 'Desc_MinerMk1_C', 'metadata': {'powerConsumption': 5, 'powerConsumptionExponent': 1.6}, 'size': {'width': 0, 'length': 0, 'height': 0}}\n",
      "[]\n"
     ]
    }
   ],
   "source": [
    "import json\n",
    "import pandas as pd\n",
    "from dataclasses import dataclass, field\n",
    "\n",
    "\n",
    "with open('data.json', 'r') as f:\n",
    "    json_str = f.read()\n",
    "\n",
    "json_str\n",
    "json_dict = json.loads(json_str)\n",
    "print(json_dict.keys())\n",
    "\n",
    "recipes = json_dict['recipes']\n",
    "items = json_dict['items']\n",
    "buildings = json_dict['buildings']\n",
    "resources = json_dict['resources']\n",
    "miners = json_dict['miners']\n",
    "\n",
    "# recipes['Recipe_Alternate_Cable_2_C']\n",
    "print(miners['Build_MinerMk1_C'])\n",
    "print(buildings['Desc_MinerMk1_C'])\n",
    "print([key for key in buildings.keys() if 'awesome' in key.lower()])\n"
   ]
  },
  {
   "cell_type": "code",
   "execution_count": 16,
   "metadata": {},
   "outputs": [
    {
     "data": {
      "text/plain": [
       "['SC_Manufacturers_C',\n",
       " 'SC_Beams_C',\n",
       " 'SC_Catwalks_C',\n",
       " 'SC_Lights_C',\n",
       " 'SC_Attach_C',\n",
       " 'SC_ConveyorAttachments_C',\n",
       " 'SC_ConveyorBelts_C',\n",
       " 'SC_ConveyLift_C',\n",
       " 'SC_ConverPole_C',\n",
       " 'SC_Vehicles_C',\n",
       " 'SC_Frames_C',\n",
       " 'SC_HyperTubes_C',\n",
       " 'SC_PipeSupport_C',\n",
       " 'SC_Floors_C',\n",
       " 'SC_Smelters_C',\n",
       " 'SC_OilProduction_C',\n",
       " 'SC_Doors_C',\n",
       " 'SC_Generators_C',\n",
       " 'SC_Storage_C',\n",
       " 'SC_Inverted_C',\n",
       " 'SC_JumpPads_C',\n",
       " 'SC_Towers_C',\n",
       " 'SC_Special_C',\n",
       " 'SC_Miners_C',\n",
       " 'SC_Pillars_C',\n",
       " 'SC_Pipes_C',\n",
       " 'SC_PowerPoles_C',\n",
       " 'SC_WallPoles_C',\n",
       " 'SC_QuatPipes_C',\n",
       " 'SC_Trains_C',\n",
       " 'SC_Ramps_C',\n",
       " 'SC_Roofs_C',\n",
       " 'SC_Signs_C',\n",
       " 'SC_Walls_C',\n",
       " 'SC_Windows_C',\n",
       " 'SC_UpperDiagonalWalls_C',\n",
       " 'SC_DiagonalWalls_C',\n",
       " 'SC_Walkways_C',\n",
       " 'SC_AngularWalls_C',\n",
       " 'SC_ConveyorConnections_C',\n",
       " 'SC_Workstations_C']"
      ]
     },
     "execution_count": 16,
     "metadata": {},
     "output_type": "execute_result"
    }
   ],
   "source": [
    "cats = []\n",
    "for building in buildings.values():\n",
    "    for cat in building['categories']:\n",
    "        if cat not in cats:\n",
    "            cats.append(cat)\n",
    "\n",
    "cats"
   ]
  },
  {
   "cell_type": "code",
   "execution_count": 1,
   "metadata": {},
   "outputs": [
    {
     "name": "stdout",
     "output_type": "stream",
     "text": [
      "NameList.ZIPLINE: 'zipline_256.png',\n",
      "NameList.BEACON: 'beacon_256.png',\n",
      "NameList.GAS_MASK: 'gas-mask_256.png',\n",
      "NameList.HAZMAT_SUIT: 'hazmat-suit_256.png',\n",
      "NameList.HOVER_PACK: 'hover-pack_256.png',\n",
      "NameList.JETPACK: 'jetpack_256.png',\n",
      "NameList.BLADE_RUNNERS: 'blade-runners_256.png',\n",
      "NameList.NOBELISK_DETONATOR: 'nobelisk-detonator_256.png',\n",
      "NameList.OBJECT_SCANNER: 'object-scanner-improvements_256.png','object-scanner_256.png',\n",
      "NameList.RIFLE: 'rifle-cartridges_256.png','rifle-cartridge_256.png','rifle-prototype_256.png','rifle_256.png','the-rifle_256.png',\n",
      "NameList.XENO-ZAPPER: 'xeno-zapper_256.png',\n",
      "NameList.XENO-BASHER: 'xeno-basher_256.png',\n",
      "NameList.PORTABLE_MINER: 'portable-miner_256.png',\n",
      "NameList.ALUMINA_SOLUTION: 'alumina-solution_256.png','packaged-alumina-solution_256.png',\n",
      "NameList.ALUMINUM_CASING: 'aluminum-casing_256.png',\n",
      "NameList.ALUMINUM_INGOT: 'aluminum-ingot_256.png',\n",
      "NameList.HEAT_SINK: 'heat-sink_256.png',\n",
      "NameList.ALCLAD_ALUMINUM_SHEET: 'alclad-aluminum-sheet_256.png',\n",
      "NameList.ALUMINUM_SCRAP: 'aluminum-scrap_256.png',\n",
      "NameList.BATTERY: 'battery_256.png',\n",
      "NameList.PALEBERRY: 'paleberry_256.png',\n",
      "NameList.SOLID_BIOFUEL: 'solid-biofuel_256.png',\n",
      "NameList.CABLE: 'cable_256.png',\n",
      "NameList.RIFLE_CARTRIDGE: 'rifle-cartridges_256.png','rifle-cartridge_256.png',\n",
      "NameList.CONCRETE: 'basic-wall-4m-concrete_256.png','big-concrete-pillar-concrete_256.png','big-concrete-pillar_256.png','center-door-wall-concrete_256.png','coated-concrete-foundation-material_256.png','concrete-foundation-material_256.png','concrete-foundations-material_256.png','concrete-pillar-set_256.png','concrete-wall-material_256.png','concrete_256.png','conveyor-wall-x1-concrete_256.png','conveyor-wall-x2-concrete_256.png','conveyor-wall-x3-concrete_256.png','double-ramp-2m-concrete_256.png','double-ramp-4m-concrete_256.png','double-ramp-8m-concrete_256.png','down-corner-ramp-2m-concrete_256.png','down-corner-ramp-4m-concrete_256.png','foundation-2m-concrete_256.png','foundation-4m-concrete_256.png','frame-window-concrete_256.png','gate-hole-wall-concrete_256.png','inv-down-corner-2m-concrete_256.png','inv-down-corner-4m-concrete_256.png','inv-ramp-2m-concrete_256.png','inv-ramp-4m-concrete_256.png','inv-up-corner-2m-concrete_256.png','inv-up-corner-4m-concrete_256.png','panel-window-concrete_256.png','ramp-2m-concrete_256.png','ramp-4m-concrete_256.png','reinforced-window-concrete_256.png','road-barrier-concrete_256.png','side-door-wall-concrete_256.png','single-window-concrete_256.png','small-concrete-pillar-concrete_256.png','small-concrete-pillar_256.png','tilted-corner-wall-4m-concrete_256.png','tilted-corner-wall-8m-concrete_256.png','tilted-wall-4m-concrete_256.png','tilted-wall-8m-concrete_256.png','up-corner-ramp-2m-concrete_256.png','up-corner-ramp-4m-concrete_256.png',\n",
      "NameList.CHAINSAW: 'chainsaw_256.png',\n",
      "NameList.AI_LIMITER: 'ai-limiter_256.png',\n",
      "NameList.CIRCUIT_BOARD: 'circuit-board_256.png',\n",
      "NameList.COAL: 'coal-generator_256.png','coal-power_256.png','coal_256.png','compacted-coal_256.png',\n",
      "NameList.COLOR_CARTRIDGE: 'color-cartridges_256.png','color-cartridge_256.png',\n",
      "NameList.COMPACTED_COAL: 'compacted-coal_256.png',\n",
      "NameList.SUPERCOMPUTER: 'supercomputer_256.png',\n",
      "NameList.COMPUTER: 'computer_256.png','supercomputer_256.png',\n",
      "NameList.COOLING_SYSTEM: 'cooling-system_256.png',\n",
      "NameList.COPPER_POWDER: 'copper-powder_256.png',\n",
      "NameList.COPPER_INGOT: 'copper-ingot_256.png',\n",
      "NameList.COPPER_SHEET: 'copper-sheet_256.png',\n",
      "NameList.CRYSTAL_OSCILLATOR: 'crystal-oscillator_256.png',\n",
      "NameList.POWER_SHARD: 'power-shard_256.png','purple-power-shards_256.png','yellow-power-shards_256.png',\n",
      "NameList.BLUE_POWER_SLUG: 'blue-power-slugs_256.png','blue-power-slug_256.png',\n",
      "NameList.YELLOW_POWER_SLUG: 'yellow-power-slug_256.png',\n",
      "NameList.PURPLE_POWER_SLUG: 'purple-power-slug_256.png',\n",
      "NameList.ELECTROMAGNETIC_CONTROL_ROD: 'electromagnetic-control-rod_256.png',\n",
      "NameList.FABRIC: 'fabric_256.png',\n",
      "NameList.GAS_FILTER: 'gas-filter_256.png',\n",
      "NameList.SWEET_FIREWORKS: \n",
      "NameList.FANCY_FIREWORKS: \n",
      "NameList.SPARKLY_FIREWORKS: \n",
      "NameList.FLOWER_PETALS: 'flower-petals_256.png',\n",
      "NameList.EMPTY_CANISTER: 'empty-canister_256.png',\n",
      "NameList.PACKAGED_FUEL: 'packaged-fuel_256.png',\n",
      "NameList.EMPTY_FLUID_TANK: 'empty-fluid-tank_256.png',\n",
      "NameList.BIOMASS: 'biomass-burner_256.png','biomass_256.png',\n",
      "NameList.CATERIUM_INGOT: 'caterium-ingots_256.png','caterium-ingot_256.png',\n",
      "NameList.GOLDEN_FACTORY_CARTÂ„¢: \n",
      "NameList.FACTORY_CARTÂ„¢: \n",
      "NameList.BLACK_POWDER: 'black-powder_256.png',\n",
      "NameList.HUB_PARTS: 'hub-parts_256.png',\n",
      "NameList.IODINE_INFUSED_FILTER: 'iodine-infused-filter_256.png',\n",
      "NameList.HEAVY_OIL_RESIDUE: 'heavy-oil-residue_256.png','packaged-heavy-oil-residue_256.png',\n",
      "NameList.HIGH-SPEED_CONNECTOR: 'high-speed-connector_256.png',\n",
      "NameList.QUICKWIRE: 'quickwire_256.png',\n",
      "NameList.ALIEN_CARAPACE: 'alien-carapace_256.png',\n",
      "NameList.IRON_INGOT: 'iron-ingot_256.png',\n",
      "NameList.REINFORCED_IRON_PLATE: 'reinforced-iron-plate_256.png',\n",
      "NameList.IRON_PLATE: 'iron-plate_256.png','reinforced-iron-plate_256.png',\n",
      "NameList.IRON_ROD: 'iron-rod_256.png',\n",
      "NameList.SCREW: 'screw_256.png',\n",
      "NameList.LEAVES: 'leaves_256.png',\n",
      "NameList.LIQUID_BIOFUEL: 'liquid-biofuel_256.png','packaged-liquid-biofuel_256.png',\n",
      "NameList.FUEL: 'fuel-generator_256.png','fuel_256.png','liquid-biofuel_256.png','nuclear-fuel-rod_256.png','packaged-fuel_256.png','packaged-liquid-biofuel_256.png','packaged-turbofuel_256.png','plutonium-fuel-rod_256.png','solid-biofuel_256.png','turbofuel_256.png','uranium-fuel-rod_256.png',\n",
      "NameList.CRUDE_OIL: 'crude-oil_256.png',\n",
      "NameList.TURBOFUEL: 'packaged-turbofuel_256.png','turbofuel_256.png',\n",
      "NameList.MEDICINAL_INHALER: 'medicinal-inhaler-mycelia_256.png','medicinal-inhaler-spitterparts_256.png','medicinal-inhaler_256.png',\n",
      "NameList.FUSED_MODULAR_FRAME: 'fused-modular-frame_256.png',\n",
      "NameList.HEAVY_MODULAR_FRAME: 'heavy-modular-frame_256.png',\n",
      "NameList.RADIO_CONTROL_UNIT: 'radio-control-unit_256.png',\n",
      "NameList.MODULAR_FRAME: 'fused-modular-frame_256.png','heavy-modular-frame_256.png','modular-frame_256.png',\n",
      "NameList.TURBO_MOTOR: 'turbo-motor_256.png',\n",
      "NameList.MOTOR: 'motor_256.png','turbo-motor_256.png',\n",
      "NameList.MYCELIA: 'medicinal-inhaler-mycelia_256.png','mycelia_256.png',\n",
      "NameList.NITRIC_ACID: 'nitric-acid_256.png','packaged-nitric-acid_256.png',\n",
      "NameList.NITROGEN_GAS: 'nitrogen-gas_256.png','packaged-nitrogen-gas_256.png',\n",
      "NameList.NOBELISK: 'nobelisk-detonator_256.png','nobelisk-explosives_256.png','nobelisk_256.png',\n",
      "NameList.NON-FISSILE_URANIUM: 'non-fissile-uranium_256.png',\n",
      "NameList.URANIUM_FUEL_ROD: 'uranium-fuel-rod_256.png',\n",
      "NameList.URANIUM_WASTE: 'uranium-waste_256.png',\n",
      "NameList.BERYL_NUT: 'beryl-nut_256.png',\n",
      "NameList.BAUXITE: 'bauxite-refinement_256.png','bauxite_256.png',\n",
      "NameList.COPPER_ORE: 'copper-ore_256.png',\n",
      "NameList.CATERIUM_ORE: 'caterium-ore_256.png',\n",
      "NameList.IRON_ORE: 'iron-ore_256.png',\n",
      "NameList.URANIUM: 'encased-uranium-cell_256.png','non-fissile-uranium_256.png','uranium-fuel-rod_256.png','uranium-pellet_256.png','uranium-waste_256.png','uranium_256.png',\n",
      "NameList.PACKAGED_ALUMINA_SOLUTION: 'packaged-alumina-solution_256.png',\n",
      "NameList.PACKAGED_LIQUID_BIOFUEL: 'packaged-liquid-biofuel_256.png',\n",
      "NameList.PACKAGED_NITRIC_ACID: 'packaged-nitric-acid_256.png',\n",
      "NameList.PACKAGED_NITROGEN_GAS: 'packaged-nitrogen-gas_256.png',\n",
      "NameList.PACKAGED_HEAVY_OIL_RESIDUE: 'packaged-heavy-oil-residue_256.png',\n",
      "NameList.PACKAGED_OIL: 'packaged-oil_256.png',\n",
      "NameList.PACKAGED_SULFURIC_ACID: 'packaged-sulfuric-acid_256.png',\n",
      "NameList.PACKAGED_WATER: 'packaged-water_256.png',\n",
      "NameList.PARACHUTE: 'parachute_256.png',\n",
      "NameList.PETROLEUM_COKE: 'petroleum-coke_256.png',\n",
      "NameList.PLASTIC: 'plastic_256.png',\n",
      "NameList.ENCASED_PLUTONIUM_CELL: 'encased-plutonium-cell_256.png',\n",
      "NameList.PLUTONIUM_FUEL_ROD: 'plutonium-fuel-rod_256.png',\n",
      "NameList.PLUTONIUM_PELLET: 'plutonium-pellet_256.png',\n",
      "NameList.PLUTONIUM_WASTE: 'plutonium-waste_256.png',\n",
      "NameList.POLYMER_RESIN: 'polymer-resin_256.png',\n",
      "NameList.PRESSURE_CONVERSION_CUBE: 'pressure-conversion-cube_256.png',\n",
      "NameList.QUARTZ_CRYSTAL: 'quartz-crystals_256.png','quartz-crystal_256.png',\n",
      "NameList.RAW_QUARTZ: 'raw-quartz_256.png',\n",
      "NameList.REBAR_GUN: 'rebar-gun_256.png',\n",
      "NameList.FICSIT_COUPON: 'ficsit-coupon_256.png',\n",
      "NameList.ROTOR: 'rotor_256.png',\n",
      "NameList.RUBBER: 'rubber_256.png',\n",
      "NameList.BACON_AGARIC: 'bacon-agaric_256.png',\n",
      "NameList.SILICA: 'silica_256.png',\n",
      "NameList.SMART_PLATING: 'smart-plating_256.png',\n",
      "NameList.VERSATILE_FRAMEWORK: 'versatile-framework_256.png',\n",
      "NameList.AUTOMATED_WIRING: 'automated-wiring_256.png',\n",
      "NameList.MODULAR_ENGINE: 'modular-engine_256.png',\n",
      "NameList.ADAPTIVE_CONTROL_UNIT: 'adaptive-control-unit_256.png',\n",
      "NameList.MAGNETIC_FIELD_GENERATOR: 'magnetic-field-generator_256.png',\n",
      "NameList.ASSEMBLY_DIRECTOR_SYSTEM: 'assembly-director-system_256.png',\n",
      "NameList.THERMAL_PROPULSION_ROCKET: 'thermal-propulsion-rocket_256.png',\n",
      "NameList.NUCLEAR_PASTA: 'nuclear-pasta_256.png',\n",
      "NameList.SPIKED_REBAR: 'spiked-rebars_256.png','spiked-rebar_256.png',\n",
      "NameList.ALIEN_ORGANS: 'alien-organs_256.png',\n",
      "NameList.STATOR: 'stator_256.png',\n",
      "NameList.STEEL_INGOT: 'steel-ingot_256.png',\n",
      "NameList.STEEL_PIPE: 'steel-pipe_256.png',\n",
      "NameList.ENCASED_INDUSTRIAL_BEAM: 'encased-industrial-beam_256.png',\n",
      "NameList.STEEL_BEAM: 'steel-beam_256.png',\n",
      "NameList.LIMESTONE: 'limestone_256.png',\n",
      "NameList.SULFUR: 'packaged-sulfuric-acid_256.png','sulfuric-acid_256.png','sulfur_256.png',\n",
      "NameList.SULFURIC_ACID: 'packaged-sulfuric-acid_256.png','sulfuric-acid_256.png',\n",
      "NameList.PACKAGED_TURBOFUEL: 'packaged-turbofuel_256.png',\n",
      "NameList.ENCASED_URANIUM_CELL: 'encased-uranium-cell_256.png',\n",
      "NameList.WATER: 'packaged-water_256.png','water-extractor_256.png','water_256.png',\n",
      "NameList.WIRE: 'quickwire_256.png','wire_256.png',\n",
      "NameList.WOOD: 'wood_256.png',\n",
      "NameList.POWER: 'blue-power-slugs_256.png','blue-power-slug_256.png','coal-power_256.png','expanded-power-infrastructure_256.png','green-power-slug_256.png','nuclear-power-plant_256.png','nuclear-power_256.png','power-line_256.png','power-pole-mk-2_256.png','power-pole-mk-3_256.png','power-poles-mk-2_256.png','power-poles-mk-3_256.png','power-shard_256.png','power-storage_256.png','power-switch_256.png','purple-power-shards_256.png','purple-power-slug_256.png','wall-power-outlets-mk-2_256.png','wall-power-outlets-mk-3_256.png','yellow-power-shards_256.png','yellow-power-slug_256.png',\n",
      "NameList.SINK_POINT: 'sink-point_256.png',\n",
      "\n"
     ]
    }
   ],
   "source": [
    "from Item import Item\n",
    "from Recipe import Recipe\n",
    "\n",
    "# load recipes\n",
    "Recipe.load_recipes()\n",
    "Item.load_items()\n",
    "import os\n",
    "\n",
    "# print(Item.search_for_item(\"iron\"))\n",
    "# Item.get_item_by_name()\n",
    "# name_items=\"\"\n",
    "# for it in Item.items:\n",
    "#     varname = it.name\n",
    "#     varname = varname.upper()\n",
    "#     if \" \" in varname:\n",
    "#         varname = varname.replace(\" \", \"_\")\n",
    "\n",
    "#     name_items += f\"{varname} = '{it.name}'\" + \"\\n\"\n",
    "    \n",
    "# print(name_items)\n",
    "\n",
    "img_names = os.listdir('images') \n",
    "out_str = \"\"\n",
    "img_dict = {}\n",
    "for it in Item.items:\n",
    "    img_dict[it.name] = []\n",
    "    search_str = it.name.lower().replace(' ', '-')\n",
    "    for img_name in img_names:\n",
    "        if search_str in img_name and '64' not in img_name and 'alternate' not in img_name and '-1' not in img_name and 'get-' not in img_name:\n",
    "            img_dict[it.name].append(img_name)\n",
    "\n",
    "    found_imgs = \"\"\n",
    "    for img in img_dict[it.name]:\n",
    "        found_imgs += f\"'{img}',\"\n",
    "    \n",
    "\n",
    "    out_str += f'NameList.{it.name.upper().replace(\" \", \"_\")}: {found_imgs}' + '\\n'\n",
    "\n",
    "    \n",
    "\n",
    "print(out_str)\n",
    "\n"
   ]
  },
  {
   "cell_type": "code",
   "execution_count": 3,
   "metadata": {},
   "outputs": [
    {
     "name": "stdout",
     "output_type": "stream",
     "text": [
      "Name: Iron Ingot\n",
      "Class Name: Recipe_IngotIron_C\n",
      "Is Alternate: False\n",
      "Ingredients (/min): \n",
      "   Iron Ore: 30.0\n",
      "Products (/min): \n",
      "    Iron Ingot: 30.0\n",
      "\n"
     ]
    }
   ],
   "source": [
    "from Item import Item\n",
    "from Recipe import Recipe\n",
    "import NameList\n",
    "\n",
    "# load recipes\n",
    "Recipe.load_recipes()\n",
    "iron_ingot = Item.get_item_by_name(NameList.IRON_INGOT)\n",
    "recipe = Recipe.get_base_recipe_for_item(iron_ingot)\n",
    "print(recipe.detailed_info)"
   ]
  },
  {
   "cell_type": "code",
   "execution_count": 7,
   "metadata": {},
   "outputs": [
    {
     "data": {
      "text/plain": [
       "{'slug': 'biomass-burner',\n",
       " 'name': 'Biomass Burner',\n",
       " 'description': 'Burns various forms of biomass to generate electricity for the power grid.\\nHas no input and must therefore be fed biomass manually.\\n\\nResource consumption will automatically be lowered to meet power demands.',\n",
       " 'categories': ['SC_Generators_C'],\n",
       " 'buildMenuPriority': 20,\n",
       " 'className': 'Desc_GeneratorBiomass_C',\n",
       " 'metadata': {'powerConsumption': 0, 'powerConsumptionExponent': 1.6},\n",
       " 'size': {'width': 0, 'length': 0, 'height': 0}}"
      ]
     },
     "execution_count": 7,
     "metadata": {},
     "output_type": "execute_result"
    }
   ],
   "source": [
    "buildings_by_cat['SC_Generators_C'][0]"
   ]
  },
  {
   "cell_type": "code",
   "execution_count": 10,
   "metadata": {},
   "outputs": [
    {
     "data": {
      "text/plain": [
       "{'slug': 'conveyor-belt-mk-1',\n",
       " 'name': 'Conveyor Belt Mk.1',\n",
       " 'description': 'Transports up to 60 resources per minute. Used to move resources between buildings.',\n",
       " 'categories': ['SC_ConveyorBelts_C'],\n",
       " 'buildMenuPriority': 31,\n",
       " 'className': 'Desc_ConveyorBeltMk1_C',\n",
       " 'metadata': {'beltSpeed': 60,\n",
       "  'firstPieceCostMultiplier': 1,\n",
       "  'lengthPerCost': 200,\n",
       "  'maxLength': 4900},\n",
       " 'size': {'width': 0, 'length': 0, 'height': 0}}"
      ]
     },
     "execution_count": 10,
     "metadata": {},
     "output_type": "execute_result"
    }
   ],
   "source": [
    "buildings_by_cat['SC_ConveyorBelts_C'][0]"
   ]
  },
  {
   "cell_type": "code",
   "execution_count": 13,
   "metadata": {},
   "outputs": [
    {
     "name": "stdout",
     "output_type": "stream",
     "text": [
      "dict_keys(['Assembler', 'Constructor', 'Manufacturer', 'Foundry', 'Smelter', 'Oil Extractor', 'Refinery', 'Packager', 'Water Extractor', 'Miner Mk.1', 'Miner Mk.2', 'Miner Mk.3', 'Conveyor Merger', 'Programmable Splitter', 'Smart Splitter', 'Conveyor Splitter'])\n"
     ]
    }
   ],
   "source": [
    "import json\n",
    "with open('data.json', 'r') as f:\n",
    "    json_str = f.read()\n",
    "\n",
    "json_dict = json.loads(json_str)\n",
    "building_entries = json_dict['buildings']\n",
    "manfact_build_cats = ['SC_Manufacturers_C', 'SC_Smelters_C',\n",
    "        'SC_OilProduction_C', 'SC_Miners_C', 'SC_ConveyorAttachments_C']\n",
    "\n",
    "buildings_by_cat = {}\n",
    "for key in building_entries.keys():\n",
    "    cats = building_entries[key]['categories']\n",
    "    for cat in cats:\n",
    "        if cat not in buildings_by_cat.keys():\n",
    "            buildings_by_cat[cat] = []\n",
    "        buildings_by_cat[cat].append(building_entries[key])\n",
    "\n",
    "building_json = {}\n",
    "for cat in manfact_build_cats:\n",
    "    cat_entries = buildings_by_cat[cat]\n",
    "    for entry in cat_entries:\n",
    "        building_json[entry['name']] = entry\n",
    "\n",
    "print(building_json.keys())"
   ]
  },
  {
   "cell_type": "code",
   "execution_count": 14,
   "metadata": {},
   "outputs": [
    {
     "data": {
      "text/plain": [
       "{'slug': 'assembler',\n",
       " 'name': 'Assembler',\n",
       " 'description': 'Crafts two parts into another part.\\n\\nCan be automated by feeding parts into it with a conveyor belt connected to the input. The produced parts can be automatically extracted by connecting a conveyor belt to the output.',\n",
       " 'categories': ['SC_Manufacturers_C'],\n",
       " 'buildMenuPriority': 12,\n",
       " 'className': 'Desc_AssemblerMk1_C',\n",
       " 'metadata': {'powerConsumption': 15,\n",
       "  'powerConsumptionExponent': 1.6,\n",
       "  'manufacturingSpeed': 1},\n",
       " 'size': {'width': 0, 'length': 0, 'height': 0}}"
      ]
     },
     "execution_count": 14,
     "metadata": {},
     "output_type": "execute_result"
    }
   ],
   "source": [
    "building_json['Assembler']"
   ]
  },
  {
   "cell_type": "code",
   "execution_count": null,
   "metadata": {},
   "outputs": [],
   "source": [
    "js"
   ]
  }
 ],
 "metadata": {
  "interpreter": {
   "hash": "39e31e207821231c5e6fe341d34550fd43c5f1c33e93e6e71c11fa0f2ba24e5d"
  },
  "kernelspec": {
   "display_name": "Python 3.8.8 ('satisfactory')",
   "language": "python",
   "name": "python3"
  },
  "language_info": {
   "codemirror_mode": {
    "name": "ipython",
    "version": 3
   },
   "file_extension": ".py",
   "mimetype": "text/x-python",
   "name": "python",
   "nbconvert_exporter": "python",
   "pygments_lexer": "ipython3",
   "version": "3.8.8"
  },
  "orig_nbformat": 4
 },
 "nbformat": 4,
 "nbformat_minor": 2
}
