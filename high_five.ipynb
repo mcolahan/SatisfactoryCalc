{
 "cells": [
  {
   "cell_type": "code",
   "execution_count": 1,
   "metadata": {},
   "outputs": [],
   "source": [
    "from Recipe import Recipe\n",
    "from Item import Item\n",
    "from Building import Building\n",
    "\n"
   ]
  },
  {
   "cell_type": "code",
   "execution_count": 4,
   "metadata": {},
   "outputs": [
    {
     "data": {
      "text/plain": [
       "<Building: Smelter>"
      ]
     },
     "execution_count": 4,
     "metadata": {},
     "output_type": "execute_result"
    }
   ],
   "source": [
    "\n",
    "miner_mk1 = Building.get_building_by_name(\"Miner Mk.1\")\n",
    "smelter = Building.get_building_by_name(\"Smelter\")\n",
    "manufacturer = Building.get_building_by_name(\"Manufacturer\")\n",
    "\n",
    "smelter\n"
   ]
  },
  {
   "cell_type": "code",
   "execution_count": null,
   "metadata": {},
   "outputs": [],
   "source": []
  }
 ],
 "metadata": {
  "interpreter": {
   "hash": "39e31e207821231c5e6fe341d34550fd43c5f1c33e93e6e71c11fa0f2ba24e5d"
  },
  "kernelspec": {
   "display_name": "Python 3.8.8 ('satisfactory')",
   "language": "python",
   "name": "python3"
  },
  "language_info": {
   "codemirror_mode": {
    "name": "ipython",
    "version": 3
   },
   "file_extension": ".py",
   "mimetype": "text/x-python",
   "name": "python",
   "nbconvert_exporter": "python",
   "pygments_lexer": "ipython3",
   "version": "3.8.8"
  },
  "orig_nbformat": 4
 },
 "nbformat": 4,
 "nbformat_minor": 2
}
